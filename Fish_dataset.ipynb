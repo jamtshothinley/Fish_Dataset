{
 "cells": [
  {
   "cell_type": "code",
   "execution_count": 1,
   "id": "fcd78489-89f8-4cc1-9484-455695aeb6ff",
   "metadata": {},
   "outputs": [],
   "source": [
    "import warnings\n",
    "warnings.filterwarnings(\"ignore\")\n",
    "import pandas as pd"
   ]
  },
  {
   "cell_type": "code",
   "execution_count": 2,
   "id": "61e21f28-48cc-4d7a-a966-ee675d7a84c8",
   "metadata": {},
   "outputs": [],
   "source": [
    "# reads data from a CSV file named 'Fish_dataset.csv' assigning it with variable named 'df'"
   ]
  },
  {
   "cell_type": "code",
   "execution_count": 3,
   "id": "5b9035cb-029e-43d1-9055-deaf9cb27a74",
   "metadata": {},
   "outputs": [
    {
     "data": {
      "text/html": [
       "<div>\n",
       "<style scoped>\n",
       "    .dataframe tbody tr th:only-of-type {\n",
       "        vertical-align: middle;\n",
       "    }\n",
       "\n",
       "    .dataframe tbody tr th {\n",
       "        vertical-align: top;\n",
       "    }\n",
       "\n",
       "    .dataframe thead th {\n",
       "        text-align: right;\n",
       "    }\n",
       "</style>\n",
       "<table border=\"1\" class=\"dataframe\">\n",
       "  <thead>\n",
       "    <tr style=\"text-align: right;\">\n",
       "      <th></th>\n",
       "      <th>Species</th>\n",
       "      <th>Weight</th>\n",
       "      <th>Length1</th>\n",
       "      <th>Length2</th>\n",
       "      <th>Length3</th>\n",
       "      <th>Height</th>\n",
       "      <th>Width</th>\n",
       "    </tr>\n",
       "  </thead>\n",
       "  <tbody>\n",
       "    <tr>\n",
       "      <th>0</th>\n",
       "      <td>Bream</td>\n",
       "      <td>242.0</td>\n",
       "      <td>23.2</td>\n",
       "      <td>25.4</td>\n",
       "      <td>30.0</td>\n",
       "      <td>11.5200</td>\n",
       "      <td>4.0200</td>\n",
       "    </tr>\n",
       "    <tr>\n",
       "      <th>1</th>\n",
       "      <td>Bream</td>\n",
       "      <td>290.0</td>\n",
       "      <td>24.0</td>\n",
       "      <td>26.3</td>\n",
       "      <td>31.2</td>\n",
       "      <td>12.4800</td>\n",
       "      <td>4.3056</td>\n",
       "    </tr>\n",
       "    <tr>\n",
       "      <th>2</th>\n",
       "      <td>Bream</td>\n",
       "      <td>340.0</td>\n",
       "      <td>23.9</td>\n",
       "      <td>26.5</td>\n",
       "      <td>31.1</td>\n",
       "      <td>12.3778</td>\n",
       "      <td>4.6961</td>\n",
       "    </tr>\n",
       "    <tr>\n",
       "      <th>3</th>\n",
       "      <td>Bream</td>\n",
       "      <td>363.0</td>\n",
       "      <td>26.3</td>\n",
       "      <td>29.0</td>\n",
       "      <td>33.5</td>\n",
       "      <td>12.7300</td>\n",
       "      <td>4.4555</td>\n",
       "    </tr>\n",
       "    <tr>\n",
       "      <th>4</th>\n",
       "      <td>Bream</td>\n",
       "      <td>430.0</td>\n",
       "      <td>26.5</td>\n",
       "      <td>29.0</td>\n",
       "      <td>34.0</td>\n",
       "      <td>12.4440</td>\n",
       "      <td>5.1340</td>\n",
       "    </tr>\n",
       "    <tr>\n",
       "      <th>...</th>\n",
       "      <td>...</td>\n",
       "      <td>...</td>\n",
       "      <td>...</td>\n",
       "      <td>...</td>\n",
       "      <td>...</td>\n",
       "      <td>...</td>\n",
       "      <td>...</td>\n",
       "    </tr>\n",
       "    <tr>\n",
       "      <th>154</th>\n",
       "      <td>Smelt</td>\n",
       "      <td>12.2</td>\n",
       "      <td>11.5</td>\n",
       "      <td>12.2</td>\n",
       "      <td>13.4</td>\n",
       "      <td>2.0904</td>\n",
       "      <td>1.3936</td>\n",
       "    </tr>\n",
       "    <tr>\n",
       "      <th>155</th>\n",
       "      <td>Smelt</td>\n",
       "      <td>13.4</td>\n",
       "      <td>11.7</td>\n",
       "      <td>12.4</td>\n",
       "      <td>13.5</td>\n",
       "      <td>2.4300</td>\n",
       "      <td>1.2690</td>\n",
       "    </tr>\n",
       "    <tr>\n",
       "      <th>156</th>\n",
       "      <td>Smelt</td>\n",
       "      <td>12.2</td>\n",
       "      <td>12.1</td>\n",
       "      <td>13.0</td>\n",
       "      <td>13.8</td>\n",
       "      <td>2.2770</td>\n",
       "      <td>1.2558</td>\n",
       "    </tr>\n",
       "    <tr>\n",
       "      <th>157</th>\n",
       "      <td>Smelt</td>\n",
       "      <td>19.7</td>\n",
       "      <td>13.2</td>\n",
       "      <td>14.3</td>\n",
       "      <td>15.2</td>\n",
       "      <td>2.8728</td>\n",
       "      <td>2.0672</td>\n",
       "    </tr>\n",
       "    <tr>\n",
       "      <th>158</th>\n",
       "      <td>Smelt</td>\n",
       "      <td>19.9</td>\n",
       "      <td>13.8</td>\n",
       "      <td>15.0</td>\n",
       "      <td>16.2</td>\n",
       "      <td>2.9322</td>\n",
       "      <td>1.8792</td>\n",
       "    </tr>\n",
       "  </tbody>\n",
       "</table>\n",
       "<p>159 rows × 7 columns</p>\n",
       "</div>"
      ],
      "text/plain": [
       "    Species  Weight  Length1  Length2  Length3   Height   Width\n",
       "0     Bream   242.0     23.2     25.4     30.0  11.5200  4.0200\n",
       "1     Bream   290.0     24.0     26.3     31.2  12.4800  4.3056\n",
       "2     Bream   340.0     23.9     26.5     31.1  12.3778  4.6961\n",
       "3     Bream   363.0     26.3     29.0     33.5  12.7300  4.4555\n",
       "4     Bream   430.0     26.5     29.0     34.0  12.4440  5.1340\n",
       "..      ...     ...      ...      ...      ...      ...     ...\n",
       "154   Smelt    12.2     11.5     12.2     13.4   2.0904  1.3936\n",
       "155   Smelt    13.4     11.7     12.4     13.5   2.4300  1.2690\n",
       "156   Smelt    12.2     12.1     13.0     13.8   2.2770  1.2558\n",
       "157   Smelt    19.7     13.2     14.3     15.2   2.8728  2.0672\n",
       "158   Smelt    19.9     13.8     15.0     16.2   2.9322  1.8792\n",
       "\n",
       "[159 rows x 7 columns]"
      ]
     },
     "execution_count": 3,
     "metadata": {},
     "output_type": "execute_result"
    }
   ],
   "source": [
    "df = pd.read_csv('Fish_dataset.csv')\n",
    "df"
   ]
  },
  {
   "cell_type": "code",
   "execution_count": 4,
   "id": "9708a20c-5688-4747-8878-0c1baf6f2684",
   "metadata": {},
   "outputs": [],
   "source": [
    "# displays the first 5 rows of the DataFrame 'df'"
   ]
  },
  {
   "cell_type": "code",
   "execution_count": 2,
   "id": "c8eeadb4-d4b2-4b82-91aa-d7bcd45debaa",
   "metadata": {},
   "outputs": [
    {
     "data": {
      "text/html": [
       "<div>\n",
       "<style scoped>\n",
       "    .dataframe tbody tr th:only-of-type {\n",
       "        vertical-align: middle;\n",
       "    }\n",
       "\n",
       "    .dataframe tbody tr th {\n",
       "        vertical-align: top;\n",
       "    }\n",
       "\n",
       "    .dataframe thead th {\n",
       "        text-align: right;\n",
       "    }\n",
       "</style>\n",
       "<table border=\"1\" class=\"dataframe\">\n",
       "  <thead>\n",
       "    <tr style=\"text-align: right;\">\n",
       "      <th></th>\n",
       "      <th>Species</th>\n",
       "      <th>Weight</th>\n",
       "      <th>Length1</th>\n",
       "      <th>Length2</th>\n",
       "      <th>Length3</th>\n",
       "      <th>Height</th>\n",
       "      <th>Width</th>\n",
       "    </tr>\n",
       "  </thead>\n",
       "  <tbody>\n",
       "    <tr>\n",
       "      <th>0</th>\n",
       "      <td>Bream</td>\n",
       "      <td>242.0</td>\n",
       "      <td>23.2</td>\n",
       "      <td>25.4</td>\n",
       "      <td>30.0</td>\n",
       "      <td>11.5200</td>\n",
       "      <td>4.0200</td>\n",
       "    </tr>\n",
       "    <tr>\n",
       "      <th>1</th>\n",
       "      <td>Bream</td>\n",
       "      <td>290.0</td>\n",
       "      <td>24.0</td>\n",
       "      <td>26.3</td>\n",
       "      <td>31.2</td>\n",
       "      <td>12.4800</td>\n",
       "      <td>4.3056</td>\n",
       "    </tr>\n",
       "    <tr>\n",
       "      <th>2</th>\n",
       "      <td>Bream</td>\n",
       "      <td>340.0</td>\n",
       "      <td>23.9</td>\n",
       "      <td>26.5</td>\n",
       "      <td>31.1</td>\n",
       "      <td>12.3778</td>\n",
       "      <td>4.6961</td>\n",
       "    </tr>\n",
       "    <tr>\n",
       "      <th>3</th>\n",
       "      <td>Bream</td>\n",
       "      <td>363.0</td>\n",
       "      <td>26.3</td>\n",
       "      <td>29.0</td>\n",
       "      <td>33.5</td>\n",
       "      <td>12.7300</td>\n",
       "      <td>4.4555</td>\n",
       "    </tr>\n",
       "    <tr>\n",
       "      <th>4</th>\n",
       "      <td>Bream</td>\n",
       "      <td>430.0</td>\n",
       "      <td>26.5</td>\n",
       "      <td>29.0</td>\n",
       "      <td>34.0</td>\n",
       "      <td>12.4440</td>\n",
       "      <td>5.1340</td>\n",
       "    </tr>\n",
       "  </tbody>\n",
       "</table>\n",
       "</div>"
      ],
      "text/plain": [
       "  Species  Weight  Length1  Length2  Length3   Height   Width\n",
       "0   Bream   242.0     23.2     25.4     30.0  11.5200  4.0200\n",
       "1   Bream   290.0     24.0     26.3     31.2  12.4800  4.3056\n",
       "2   Bream   340.0     23.9     26.5     31.1  12.3778  4.6961\n",
       "3   Bream   363.0     26.3     29.0     33.5  12.7300  4.4555\n",
       "4   Bream   430.0     26.5     29.0     34.0  12.4440  5.1340"
      ]
     },
     "execution_count": 2,
     "metadata": {},
     "output_type": "execute_result"
    }
   ],
   "source": [
    "df.head()"
   ]
  },
  {
   "cell_type": "code",
   "execution_count": 6,
   "id": "b787bb97-05fa-4a49-9f65-3acbe082003a",
   "metadata": {},
   "outputs": [],
   "source": [
    "# displays the last 5 rows of the DataFrame 'df'"
   ]
  },
  {
   "cell_type": "code",
   "execution_count": 8,
   "id": "02556c9b-16f8-48c4-9a90-159384e9eeeb",
   "metadata": {},
   "outputs": [
    {
     "data": {
      "text/html": [
       "<div>\n",
       "<style scoped>\n",
       "    .dataframe tbody tr th:only-of-type {\n",
       "        vertical-align: middle;\n",
       "    }\n",
       "\n",
       "    .dataframe tbody tr th {\n",
       "        vertical-align: top;\n",
       "    }\n",
       "\n",
       "    .dataframe thead th {\n",
       "        text-align: right;\n",
       "    }\n",
       "</style>\n",
       "<table border=\"1\" class=\"dataframe\">\n",
       "  <thead>\n",
       "    <tr style=\"text-align: right;\">\n",
       "      <th></th>\n",
       "      <th>Species</th>\n",
       "      <th>Weight</th>\n",
       "      <th>Length1</th>\n",
       "      <th>Length2</th>\n",
       "      <th>Length3</th>\n",
       "      <th>Height</th>\n",
       "      <th>Width</th>\n",
       "    </tr>\n",
       "  </thead>\n",
       "  <tbody>\n",
       "    <tr>\n",
       "      <th>154</th>\n",
       "      <td>Smelt</td>\n",
       "      <td>12.2</td>\n",
       "      <td>11.5</td>\n",
       "      <td>12.2</td>\n",
       "      <td>13.4</td>\n",
       "      <td>2.0904</td>\n",
       "      <td>1.3936</td>\n",
       "    </tr>\n",
       "    <tr>\n",
       "      <th>155</th>\n",
       "      <td>Smelt</td>\n",
       "      <td>13.4</td>\n",
       "      <td>11.7</td>\n",
       "      <td>12.4</td>\n",
       "      <td>13.5</td>\n",
       "      <td>2.4300</td>\n",
       "      <td>1.2690</td>\n",
       "    </tr>\n",
       "    <tr>\n",
       "      <th>156</th>\n",
       "      <td>Smelt</td>\n",
       "      <td>12.2</td>\n",
       "      <td>12.1</td>\n",
       "      <td>13.0</td>\n",
       "      <td>13.8</td>\n",
       "      <td>2.2770</td>\n",
       "      <td>1.2558</td>\n",
       "    </tr>\n",
       "    <tr>\n",
       "      <th>157</th>\n",
       "      <td>Smelt</td>\n",
       "      <td>19.7</td>\n",
       "      <td>13.2</td>\n",
       "      <td>14.3</td>\n",
       "      <td>15.2</td>\n",
       "      <td>2.8728</td>\n",
       "      <td>2.0672</td>\n",
       "    </tr>\n",
       "    <tr>\n",
       "      <th>158</th>\n",
       "      <td>Smelt</td>\n",
       "      <td>19.9</td>\n",
       "      <td>13.8</td>\n",
       "      <td>15.0</td>\n",
       "      <td>16.2</td>\n",
       "      <td>2.9322</td>\n",
       "      <td>1.8792</td>\n",
       "    </tr>\n",
       "  </tbody>\n",
       "</table>\n",
       "</div>"
      ],
      "text/plain": [
       "    Species  Weight  Length1  Length2  Length3  Height   Width\n",
       "154   Smelt    12.2     11.5     12.2     13.4  2.0904  1.3936\n",
       "155   Smelt    13.4     11.7     12.4     13.5  2.4300  1.2690\n",
       "156   Smelt    12.2     12.1     13.0     13.8  2.2770  1.2558\n",
       "157   Smelt    19.7     13.2     14.3     15.2  2.8728  2.0672\n",
       "158   Smelt    19.9     13.8     15.0     16.2  2.9322  1.8792"
      ]
     },
     "execution_count": 8,
     "metadata": {},
     "output_type": "execute_result"
    }
   ],
   "source": [
    "df.tail()"
   ]
  },
  {
   "cell_type": "code",
   "execution_count": 10,
   "id": "04690960-1b18-43a9-aa74-e4f7c2e44238",
   "metadata": {},
   "outputs": [],
   "source": [
    "# represents dimensions of the DataFrame 'df' with number of rows and columns. "
   ]
  },
  {
   "cell_type": "code",
   "execution_count": 5,
   "id": "d63d5769-465c-4045-9c3a-cb0507494e04",
   "metadata": {},
   "outputs": [
    {
     "data": {
      "text/plain": [
       "(159, 7)"
      ]
     },
     "execution_count": 5,
     "metadata": {},
     "output_type": "execute_result"
    }
   ],
   "source": [
    "df.shape"
   ]
  },
  {
   "cell_type": "code",
   "execution_count": 9,
   "id": "cbaeb652-14a7-46d8-bceb-de52626725ec",
   "metadata": {},
   "outputs": [],
   "source": [
    "# shows total number of elements in the DataFrame 'df'(product of rows and columns)"
   ]
  },
  {
   "cell_type": "code",
   "execution_count": 5,
   "id": "55fe3b5e-77c8-410f-b499-4168c065ee2e",
   "metadata": {},
   "outputs": [
    {
     "data": {
      "text/plain": [
       "1113"
      ]
     },
     "execution_count": 5,
     "metadata": {},
     "output_type": "execute_result"
    }
   ],
   "source": [
    "df.size"
   ]
  },
  {
   "cell_type": "code",
   "execution_count": 13,
   "id": "9bba1970-de2e-491f-bd90-d7f5264ad555",
   "metadata": {},
   "outputs": [],
   "source": [
    "# provides information about the DataFrame 'df', including:\n",
    "# data types, non-null counts, and memory usage for each column."
   ]
  },
  {
   "cell_type": "code",
   "execution_count": 14,
   "id": "00077104-7474-4627-a8ea-34bd03ea47ff",
   "metadata": {},
   "outputs": [
    {
     "name": "stdout",
     "output_type": "stream",
     "text": [
      "<class 'pandas.core.frame.DataFrame'>\n",
      "RangeIndex: 159 entries, 0 to 158\n",
      "Data columns (total 7 columns):\n",
      " #   Column   Non-Null Count  Dtype  \n",
      "---  ------   --------------  -----  \n",
      " 0   Species  159 non-null    object \n",
      " 1   Weight   159 non-null    float64\n",
      " 2   Length1  159 non-null    float64\n",
      " 3   Length2  159 non-null    float64\n",
      " 4   Length3  159 non-null    float64\n",
      " 5   Height   159 non-null    float64\n",
      " 6   Width    159 non-null    float64\n",
      "dtypes: float64(6), object(1)\n",
      "memory usage: 8.8+ KB\n"
     ]
    }
   ],
   "source": [
    "df.info()"
   ]
  },
  {
   "cell_type": "code",
   "execution_count": 15,
   "id": "9407562d-79fa-43b5-a5e3-bbe6027410d2",
   "metadata": {},
   "outputs": [],
   "source": [
    "# provides summary of the DataFrame 'df', including: \n",
    "# count, mean, std, min, max & 3 quartiles."
   ]
  },
  {
   "cell_type": "code",
   "execution_count": 16,
   "id": "f5d7a41d-2095-4951-a54a-9246adbf7d14",
   "metadata": {},
   "outputs": [
    {
     "data": {
      "text/html": [
       "<div>\n",
       "<style scoped>\n",
       "    .dataframe tbody tr th:only-of-type {\n",
       "        vertical-align: middle;\n",
       "    }\n",
       "\n",
       "    .dataframe tbody tr th {\n",
       "        vertical-align: top;\n",
       "    }\n",
       "\n",
       "    .dataframe thead th {\n",
       "        text-align: right;\n",
       "    }\n",
       "</style>\n",
       "<table border=\"1\" class=\"dataframe\">\n",
       "  <thead>\n",
       "    <tr style=\"text-align: right;\">\n",
       "      <th></th>\n",
       "      <th>Weight</th>\n",
       "      <th>Length1</th>\n",
       "      <th>Length2</th>\n",
       "      <th>Length3</th>\n",
       "      <th>Height</th>\n",
       "      <th>Width</th>\n",
       "    </tr>\n",
       "  </thead>\n",
       "  <tbody>\n",
       "    <tr>\n",
       "      <th>count</th>\n",
       "      <td>159.000000</td>\n",
       "      <td>159.000000</td>\n",
       "      <td>159.000000</td>\n",
       "      <td>159.000000</td>\n",
       "      <td>159.000000</td>\n",
       "      <td>159.000000</td>\n",
       "    </tr>\n",
       "    <tr>\n",
       "      <th>mean</th>\n",
       "      <td>398.326415</td>\n",
       "      <td>26.247170</td>\n",
       "      <td>28.415723</td>\n",
       "      <td>31.227044</td>\n",
       "      <td>8.970994</td>\n",
       "      <td>4.417486</td>\n",
       "    </tr>\n",
       "    <tr>\n",
       "      <th>std</th>\n",
       "      <td>357.978317</td>\n",
       "      <td>9.996441</td>\n",
       "      <td>10.716328</td>\n",
       "      <td>11.610246</td>\n",
       "      <td>4.286208</td>\n",
       "      <td>1.685804</td>\n",
       "    </tr>\n",
       "    <tr>\n",
       "      <th>min</th>\n",
       "      <td>0.000000</td>\n",
       "      <td>7.500000</td>\n",
       "      <td>8.400000</td>\n",
       "      <td>8.800000</td>\n",
       "      <td>1.728400</td>\n",
       "      <td>1.047600</td>\n",
       "    </tr>\n",
       "    <tr>\n",
       "      <th>25%</th>\n",
       "      <td>120.000000</td>\n",
       "      <td>19.050000</td>\n",
       "      <td>21.000000</td>\n",
       "      <td>23.150000</td>\n",
       "      <td>5.944800</td>\n",
       "      <td>3.385650</td>\n",
       "    </tr>\n",
       "    <tr>\n",
       "      <th>50%</th>\n",
       "      <td>273.000000</td>\n",
       "      <td>25.200000</td>\n",
       "      <td>27.300000</td>\n",
       "      <td>29.400000</td>\n",
       "      <td>7.786000</td>\n",
       "      <td>4.248500</td>\n",
       "    </tr>\n",
       "    <tr>\n",
       "      <th>75%</th>\n",
       "      <td>650.000000</td>\n",
       "      <td>32.700000</td>\n",
       "      <td>35.500000</td>\n",
       "      <td>39.650000</td>\n",
       "      <td>12.365900</td>\n",
       "      <td>5.584500</td>\n",
       "    </tr>\n",
       "    <tr>\n",
       "      <th>max</th>\n",
       "      <td>1650.000000</td>\n",
       "      <td>59.000000</td>\n",
       "      <td>63.400000</td>\n",
       "      <td>68.000000</td>\n",
       "      <td>18.957000</td>\n",
       "      <td>8.142000</td>\n",
       "    </tr>\n",
       "  </tbody>\n",
       "</table>\n",
       "</div>"
      ],
      "text/plain": [
       "            Weight     Length1     Length2     Length3      Height       Width\n",
       "count   159.000000  159.000000  159.000000  159.000000  159.000000  159.000000\n",
       "mean    398.326415   26.247170   28.415723   31.227044    8.970994    4.417486\n",
       "std     357.978317    9.996441   10.716328   11.610246    4.286208    1.685804\n",
       "min       0.000000    7.500000    8.400000    8.800000    1.728400    1.047600\n",
       "25%     120.000000   19.050000   21.000000   23.150000    5.944800    3.385650\n",
       "50%     273.000000   25.200000   27.300000   29.400000    7.786000    4.248500\n",
       "75%     650.000000   32.700000   35.500000   39.650000   12.365900    5.584500\n",
       "max    1650.000000   59.000000   63.400000   68.000000   18.957000    8.142000"
      ]
     },
     "execution_count": 16,
     "metadata": {},
     "output_type": "execute_result"
    }
   ],
   "source": [
    "df.describe()"
   ]
  },
  {
   "cell_type": "code",
   "execution_count": 17,
   "id": "2cb7d556-6a95-4e55-bef4-766baf0ba4bd",
   "metadata": {},
   "outputs": [],
   "source": [
    "# creating a bar chart, representing species distribution from a DataFrame ('df'). \n",
    "# It counts occurrences of each species, visualizing them with labels and a title."
   ]
  },
  {
   "cell_type": "code",
   "execution_count": 18,
   "id": "66ac3ba6-ed64-4983-b681-c5405e323eec",
   "metadata": {},
   "outputs": [
    {
     "data": {
      "image/png": "[encoded data removed]",
      "text/plain": [
       "<Figure size 640x480 with 1 Axes>"
      ]
     },
     "metadata": {},
     "output_type": "display_data"
    }
   ],
   "source": [
    "import matplotlib.pyplot as plt\n",
    "\n",
    "species_counts = df['Species'].value_counts()\n",
    "species_counts.plot(kind='bar')\n",
    "plt.xlabel('Species')\n",
    "plt.ylabel('Count')\n",
    "plt.title('Count of Individual Species')\n",
    "plt.show()"
   ]
  },
  {
   "cell_type": "code",
   "execution_count": null,
   "id": "90310d1c-d84a-4446-baba-14847a161536",
   "metadata": {},
   "outputs": [],
   "source": [
    "# Creating the target variable y"
   ]
  },
  {
   "cell_type": "code",
   "execution_count": 19,
   "id": "3065ea5f-45cc-489c-bd26-c5dc2195b70e",
   "metadata": {},
   "outputs": [],
   "source": [
    "y = df[\"Weight\"]"
   ]
  },
  {
   "cell_type": "code",
   "execution_count": 20,
   "id": "45caea69-f93d-4c77-884c-f9c6c931a691",
   "metadata": {},
   "outputs": [
    {
     "data": {
      "text/plain": [
       "(159,)"
      ]
     },
     "execution_count": 20,
     "metadata": {},
     "output_type": "execute_result"
    }
   ],
   "source": [
    "y.shape"
   ]
  },
  {
   "cell_type": "code",
   "execution_count": 21,
   "id": "8681143a-efaa-4fd4-90af-88c683a57c89",
   "metadata": {},
   "outputs": [
    {
     "data": {
      "text/plain": [
       "0      242.0\n",
       "1      290.0\n",
       "2      340.0\n",
       "3      363.0\n",
       "4      430.0\n",
       "       ...  \n",
       "154     12.2\n",
       "155     13.4\n",
       "156     12.2\n",
       "157     19.7\n",
       "158     19.9\n",
       "Name: Weight, Length: 159, dtype: float64"
      ]
     },
     "execution_count": 21,
     "metadata": {},
     "output_type": "execute_result"
    }
   ],
   "source": [
    "y"
   ]
  },
  {
   "cell_type": "code",
   "execution_count": 22,
   "id": "8ec64264-b104-459a-9356-6f5f03587d9d",
   "metadata": {},
   "outputs": [
    {
     "data": {
      "text/plain": [
       "Species\n",
       "Perch        56\n",
       "Bream        35\n",
       "Roach        20\n",
       "Pike         17\n",
       "Smelt        14\n",
       "Parkki       11\n",
       "Whitefish     6\n",
       "Name: count, dtype: int64"
      ]
     },
     "execution_count": 22,
     "metadata": {},
     "output_type": "execute_result"
    }
   ],
   "source": [
    "species_counts = df['Species'].value_counts()\n",
    "species_counts"
   ]
  },
  {
   "cell_type": "code",
   "execution_count": null,
   "id": "ddced4ec-8193-4da5-9b7c-76d57134e84e",
   "metadata": {},
   "outputs": [],
   "source": [
    "# handling errors using boxplot"
   ]
  },
  {
   "cell_type": "code",
   "execution_count": 23,
   "id": "87f54db4-49cd-48df-9ed3-59c580a774bb",
   "metadata": {},
   "outputs": [
    {
     "data": {
      "image/png": "[encoded data removed]",
      "text/plain": [
       "<Figure size 640x480 with 1 Axes>"
      ]
     },
     "metadata": {},
     "output_type": "display_data"
    }
   ],
   "source": [
    "import seaborn as sns\n",
    "import matplotlib.pyplot as plt\n",
    "\n",
    "df.boxplot()\n",
    "plt.show()\n"
   ]
  },
  {
   "cell_type": "code",
   "execution_count": 24,
   "id": "4ed8b676-283c-426a-8398-552a5edda576",
   "metadata": {},
   "outputs": [],
   "source": [
    "for x in df.columns[::]:              \n",
    "    if df[x].dtype == object:\n",
    "        continue\n",
    "    else:\n",
    "        q1 = df[x].quantile(q=0.25)\n",
    "        q3 = df[x].quantile(q=0.75)\n",
    "        IQR = q3-q1\n",
    "        \n",
    "        low = q1-1.5 *(IQR)\n",
    "        high = q3+1.5*(IQR)\n",
    "        ## dealing your outliers\n",
    "        df.loc[(df[x]<low)| (df[x]>high)]= df[x].median()"
   ]
  },
  {
   "cell_type": "code",
   "execution_count": 27,
   "id": "2242b4ca-2fbe-4681-9a58-8c352f384a40",
   "metadata": {},
   "outputs": [],
   "source": [
    "# missing values handelled"
   ]
  },
  {
   "cell_type": "code",
   "execution_count": 17,
   "id": "a8114692-094e-4edf-a668-b1dc753a7a68",
   "metadata": {},
   "outputs": [
    {
     "data": {
      "image/png": "[encoded data removed]",
      "text/plain": [
       "<Figure size 640x480 with 1 Axes>"
      ]
     },
     "metadata": {},
     "output_type": "display_data"
    }
   ],
   "source": [
    "df.boxplot()\n",
    "plt.show()"
   ]
  },
  {
   "cell_type": "code",
   "execution_count": null,
   "id": "5a98637e-b334-4945-b38b-49a0a65751c5",
   "metadata": {},
   "outputs": [],
   "source": [
    "# droping 'Species' "
   ]
  },
  {
   "cell_type": "code",
   "execution_count": 28,
   "id": "888cb3d5-85ba-4d49-b730-94901488ecc7",
   "metadata": {},
   "outputs": [
    {
     "data": {
      "text/html": [
       "<div>\n",
       "<style scoped>\n",
       "    .dataframe tbody tr th:only-of-type {\n",
       "        vertical-align: middle;\n",
       "    }\n",
       "\n",
       "    .dataframe tbody tr th {\n",
       "        vertical-align: top;\n",
       "    }\n",
       "\n",
       "    .dataframe thead th {\n",
       "        text-align: right;\n",
       "    }\n",
       "</style>\n",
       "<table border=\"1\" class=\"dataframe\">\n",
       "  <thead>\n",
       "    <tr style=\"text-align: right;\">\n",
       "      <th></th>\n",
       "      <th>Weight</th>\n",
       "      <th>Length1</th>\n",
       "      <th>Length2</th>\n",
       "      <th>Length3</th>\n",
       "      <th>Height</th>\n",
       "      <th>Width</th>\n",
       "    </tr>\n",
       "  </thead>\n",
       "  <tbody>\n",
       "    <tr>\n",
       "      <th>0</th>\n",
       "      <td>242.0</td>\n",
       "      <td>23.2</td>\n",
       "      <td>25.4</td>\n",
       "      <td>30.0</td>\n",
       "      <td>11.5200</td>\n",
       "      <td>4.0200</td>\n",
       "    </tr>\n",
       "    <tr>\n",
       "      <th>1</th>\n",
       "      <td>290.0</td>\n",
       "      <td>24.0</td>\n",
       "      <td>26.3</td>\n",
       "      <td>31.2</td>\n",
       "      <td>12.4800</td>\n",
       "      <td>4.3056</td>\n",
       "    </tr>\n",
       "    <tr>\n",
       "      <th>2</th>\n",
       "      <td>340.0</td>\n",
       "      <td>23.9</td>\n",
       "      <td>26.5</td>\n",
       "      <td>31.1</td>\n",
       "      <td>12.3778</td>\n",
       "      <td>4.6961</td>\n",
       "    </tr>\n",
       "    <tr>\n",
       "      <th>3</th>\n",
       "      <td>363.0</td>\n",
       "      <td>26.3</td>\n",
       "      <td>29.0</td>\n",
       "      <td>33.5</td>\n",
       "      <td>12.7300</td>\n",
       "      <td>4.4555</td>\n",
       "    </tr>\n",
       "    <tr>\n",
       "      <th>4</th>\n",
       "      <td>430.0</td>\n",
       "      <td>26.5</td>\n",
       "      <td>29.0</td>\n",
       "      <td>34.0</td>\n",
       "      <td>12.4440</td>\n",
       "      <td>5.1340</td>\n",
       "    </tr>\n",
       "    <tr>\n",
       "      <th>...</th>\n",
       "      <td>...</td>\n",
       "      <td>...</td>\n",
       "      <td>...</td>\n",
       "      <td>...</td>\n",
       "      <td>...</td>\n",
       "      <td>...</td>\n",
       "    </tr>\n",
       "    <tr>\n",
       "      <th>154</th>\n",
       "      <td>12.2</td>\n",
       "      <td>11.5</td>\n",
       "      <td>12.2</td>\n",
       "      <td>13.4</td>\n",
       "      <td>2.0904</td>\n",
       "      <td>1.3936</td>\n",
       "    </tr>\n",
       "    <tr>\n",
       "      <th>155</th>\n",
       "      <td>13.4</td>\n",
       "      <td>11.7</td>\n",
       "      <td>12.4</td>\n",
       "      <td>13.5</td>\n",
       "      <td>2.4300</td>\n",
       "      <td>1.2690</td>\n",
       "    </tr>\n",
       "    <tr>\n",
       "      <th>156</th>\n",
       "      <td>12.2</td>\n",
       "      <td>12.1</td>\n",
       "      <td>13.0</td>\n",
       "      <td>13.8</td>\n",
       "      <td>2.2770</td>\n",
       "      <td>1.2558</td>\n",
       "    </tr>\n",
       "    <tr>\n",
       "      <th>157</th>\n",
       "      <td>19.7</td>\n",
       "      <td>13.2</td>\n",
       "      <td>14.3</td>\n",
       "      <td>15.2</td>\n",
       "      <td>2.8728</td>\n",
       "      <td>2.0672</td>\n",
       "    </tr>\n",
       "    <tr>\n",
       "      <th>158</th>\n",
       "      <td>19.9</td>\n",
       "      <td>13.8</td>\n",
       "      <td>15.0</td>\n",
       "      <td>16.2</td>\n",
       "      <td>2.9322</td>\n",
       "      <td>1.8792</td>\n",
       "    </tr>\n",
       "  </tbody>\n",
       "</table>\n",
       "<p>159 rows × 6 columns</p>\n",
       "</div>"
      ],
      "text/plain": [
       "     Weight  Length1  Length2  Length3   Height   Width\n",
       "0     242.0     23.2     25.4     30.0  11.5200  4.0200\n",
       "1     290.0     24.0     26.3     31.2  12.4800  4.3056\n",
       "2     340.0     23.9     26.5     31.1  12.3778  4.6961\n",
       "3     363.0     26.3     29.0     33.5  12.7300  4.4555\n",
       "4     430.0     26.5     29.0     34.0  12.4440  5.1340\n",
       "..      ...      ...      ...      ...      ...     ...\n",
       "154    12.2     11.5     12.2     13.4   2.0904  1.3936\n",
       "155    13.4     11.7     12.4     13.5   2.4300  1.2690\n",
       "156    12.2     12.1     13.0     13.8   2.2770  1.2558\n",
       "157    19.7     13.2     14.3     15.2   2.8728  2.0672\n",
       "158    19.9     13.8     15.0     16.2   2.9322  1.8792\n",
       "\n",
       "[159 rows x 6 columns]"
      ]
     },
     "execution_count": 28,
     "metadata": {},
     "output_type": "execute_result"
    }
   ],
   "source": [
    "df.drop('Species', axis=1,)"
   ]
  },
  {
   "cell_type": "code",
   "execution_count": 29,
   "id": "06a8d5b1-52ff-4ed6-8a7d-c6d61075212c",
   "metadata": {},
   "outputs": [],
   "source": [
    "# x represents features(independent variables)\n",
    "# y represents target column(dependent variable) to be predicted or analyzed."
   ]
  },
  {
   "cell_type": "code",
   "execution_count": 30,
   "id": "f5f17eba-30c0-4abc-801b-94013a9522b1",
   "metadata": {},
   "outputs": [],
   "source": [
    "x = df[['Length1', 'Length2', 'Length3', 'Height']].values\n",
    "y = df['Weight'].values"
   ]
  },
  {
   "cell_type": "code",
   "execution_count": 31,
   "id": "908d4560-2f51-4a37-aa1f-567d8756c912",
   "metadata": {},
   "outputs": [],
   "source": [
    "# x_train(features) & y_train(target column) are for the training set.\n",
    "# x_test(features) & y_test(target column) are for the testing set.\n",
    "# test_size = 0.2 indicates that 20% of the data will be used for testing,\n",
    "# random_state = 40 sets a seed for randomization to ensure reproducibility."
   ]
  },
  {
   "cell_type": "code",
   "execution_count": 33,
   "id": "462f02ce-2fae-46da-b4b7-35b7ab4ca9df",
   "metadata": {},
   "outputs": [],
   "source": [
    "from sklearn.model_selection import train_test_split\n",
    "\n",
    "X_train, X_test, y_train, y_test = train_test_split(x, y, test_size=0.2, random_state=40)\n",
    "\n",
    "from sklearn.linear_model import LinearRegression\n",
    "model = LinearRegression()\n",
    "from sklearn.metrics import r2_score"
   ]
  },
  {
   "cell_type": "code",
   "execution_count": 34,
   "id": "7ea93c47-bb16-4aeb-a420-4a752af09b1b",
   "metadata": {},
   "outputs": [],
   "source": [
    "# Fiting the model to the training data\n",
    "# predicting training set\n",
    "# predicting testing set"
   ]
  },
  {
   "cell_type": "code",
   "execution_count": 35,
   "id": "0a74c10a-b64f-43fb-b6c1-e11d1f4c9f70",
   "metadata": {},
   "outputs": [],
   "source": [
    "model.fit(X_train, y_train)\n",
    "\n",
    "y_train_pred = model.predict(X_train)\n",
    "y_test_pred = model.predict(X_test)"
   ]
  },
  {
   "cell_type": "code",
   "execution_count": 36,
   "id": "4d77fced-5a1b-4b46-85b6-ab862212e959",
   "metadata": {},
   "outputs": [
    {
     "name": "stdout",
     "output_type": "stream",
     "text": [
      "R2_train=  0.8982191624292017 \n",
      "R2_test=  0.8871747054371791\n"
     ]
    }
   ],
   "source": [
    "# Calculating R-squared scores for training and test sets\n",
    "train_r2 = r2_score(y_train, y_train_pred)\n",
    "test_r2 = r2_score(y_test, y_test_pred)\n",
    "\n",
    "# Print the R-squared scores\n",
    "print('R2_train= ', train_r2, '\\nR2_test= ', test_r2)"
   ]
  },
  {
   "cell_type": "code",
   "execution_count": 59,
   "id": "b506287c-fbf3-4576-a247-7580c5dc4ec0",
   "metadata": {},
   "outputs": [
    {
     "name": "stdout",
     "output_type": "stream",
     "text": [
      "MSE_train=  9866.986161905641 \n",
      "MSE_test=  13762.398999904206\n"
     ]
    }
   ],
   "source": [
    "# Extracting features (X) and target variable (y) from the DataFrame\n",
    "x = df[['Length1', 'Length2', 'Length3', 'Height']].values\n",
    "y = df['Weight'].values\n",
    "\n",
    "# Splitting the data into training and testing sets\n",
    "from sklearn.model_selection import train_test_split\n",
    "X_train, X_test, y_train, y_test = train_test_split(x, y, test_size=0.2, random_state=40)\n",
    "\n",
    "# Creating a Linear Regression model\n",
    "from sklearn.linear_model import LinearRegression\n",
    "lr = LinearRegression()\n",
    "\n",
    "# Training the model using the training data\n",
    "lr.fit(X_train, y_train)\n",
    "\n",
    "# Predicting the target variable for the training and testing sets\n",
    "y_train_pred = lr.predict(X_train)\n",
    "y_test_pred = lr.predict(X_test)\n",
    "\n",
    "# Evaluating the model using mean squared error\n",
    "from sklearn.metrics import mean_squared_error\n",
    "train_mse = mean_squared_error(y_train, y_train_pred)\n",
    "test_mse = mean_squared_error(y_test, y_test_pred)\n",
    "\n",
    "# Printing the mean squared error for training and test sets\n",
    "print('MSE_train= ', train_mse, '\\nMSE_test= ', test_mse)"
   ]
  },
  {
   "cell_type": "code",
   "execution_count": 62,
   "id": "7de24f47-778a-45cc-9c9f-82f9b0724482",
   "metadata": {},
   "outputs": [
    {
     "name": "stdout",
     "output_type": "stream",
     "text": [
      "R2_train=  0.6627617492887903 \n",
      "R2_test=  0.5428567126280801\n"
     ]
    }
   ],
   "source": [
    "# Extracting the 'Height' feature and 'Weight' target variable from the DataFrame\n",
    "x = df['Height'].values.reshape(-1, 1)\n",
    "y = df['Weight'].values\n",
    "\n",
    "# Splitting the data into training and testing sets\n",
    "from sklearn.model_selection import train_test_split\n",
    "X_train, X_test, y_train, y_test = train_test_split(x, y, test_size=0.2, random_state=40)\n",
    "\n",
    "# Creating a Linear Regression model\n",
    "from sklearn.linear_model import LinearRegression\n",
    "lr1 = LinearRegression()\n",
    "\n",
    "# Training the model using the training data\n",
    "lr1.fit(X_train, y_train)\n",
    "\n",
    "# Predicting the target variable for the training and testing sets\n",
    "y_train_pred = lr1.predict(X_train)\n",
    "y_test_pred = lr1.predict(X_test)\n",
    "\n",
    "# Evaluating the model using R-squared (coefficient of determination)\n",
    "from sklearn.metrics import r2_score\n",
    "train_r2 = r2_score(y_train, y_train_pred)\n",
    "test_r2 = r2_score(y_test, y_test_pred)\n",
    "\n",
    "# Printing the R-squared scores for training and test sets\n",
    "print('R2_train= ', train_r2, '\\nR2_test= ', test_r2)"
   ]
  },
  {
   "cell_type": "code",
   "execution_count": 78,
   "id": "9a440a27-6929-45d5-ac96-3434272c4a8d",
   "metadata": {},
   "outputs": [
    {
     "name": "stdout",
     "output_type": "stream",
     "text": [
      "R2_train=  0.8184884558084639 \n",
      "R2_test=  0.811068525587292\n"
     ]
    }
   ],
   "source": [
    "# Extracting the 'Length3' feature and 'Weight' target variable from the DataFrame\n",
    "x = df['Length3'].values.reshape(-1, 1)\n",
    "y = df['Weight'].values\n",
    "\n",
    "# Splitting the data into training and testing sets (80% training, 20% testing)\n",
    "from sklearn.model_selection import train_test_split\n",
    "X_train, X_test, y_train, y_test = train_test_split(x, y, test_size=0.2, random_state=20)\n",
    "\n",
    "# Creating a Linear Regression model\n",
    "lr2 = LinearRegression()\n",
    "\n",
    "# Training the model using the training data\n",
    "lr2.fit(X_train, y_train)\n",
    "\n",
    "# Predicting the 'Weight' for both the training and testing sets\n",
    "y_train_pred = lr2.predict(X_train)\n",
    "y_test_pred = lr2.predict(X_test)\n",
    "\n",
    "# Evaluating the model using R-squared (coefficient of determination)\n",
    "from sklearn.metrics import r2_score\n",
    "train_r2 = r2_score(y_train, y_train_pred)\n",
    "test_r2 = r2_score(y_test, y_test_pred)\n",
    "\n",
    "# Printing the R-squared scores for the training and testing sets\n",
    "print('R2_train= ', train_r2, '\\nR2_test= ', test_r2)"
   ]
  },
  {
   "cell_type": "code",
   "execution_count": 79,
   "id": "a56eadd0-7b1c-4056-a701-6ec190697048",
   "metadata": {},
   "outputs": [
    {
     "name": "stdout",
     "output_type": "stream",
     "text": [
      "R2_train=  0.7166337768689214 \n",
      "R2_test=  0.6233334326283801\n"
     ]
    }
   ],
   "source": [
    "# Extracting the 'Width' feature and 'Weight' target variable from the DataFrame\n",
    "x = df['Width'].values.reshape(-1, 1)\n",
    "y = df['Weight'].values\n",
    "\n",
    "# Splitting the data into training and testing sets (80% training, 20% testing)\n",
    "from sklearn.model_selection import train_test_split\n",
    "X_train, X_test, y_train, y_test = train_test_split(x, y, test_size=0.2, random_state=20)\n",
    "\n",
    "# Creating a Linear Regression model\n",
    "lr3 = LinearRegression()\n",
    "\n",
    "# Training the model using the training data\n",
    "lr3.fit(X_train, y_train)\n",
    "\n",
    "# Predicting the 'Weight' for both the training and testing sets\n",
    "y_train_pred = lr3.predict(X_train)\n",
    "y_test_pred = lr3.predict(X_test)\n",
    "\n",
    "# Evaluating the model using R-squared (coefficient of determination)\n",
    "from sklearn.metrics import r2_score\n",
    "train_r2 = r2_score(y_train, y_train_pred)\n",
    "test_r2 = r2_score(y_test, y_test_pred)\n",
    "\n",
    "# Printing the R-squared scores for the training and testing sets\n",
    "print('R2_train= ', train_r2, '\\nR2_test= ', test_r2)"
   ]
  },
  {
   "cell_type": "code",
   "execution_count": 80,
   "id": "df132bc4-adae-4881-90ba-d5ed51b4517d",
   "metadata": {},
   "outputs": [
    {
     "name": "stdout",
     "output_type": "stream",
     "text": [
      "R2_train=  1.0 \n",
      "R2_test=  1.0\n"
     ]
    }
   ],
   "source": [
    "# Extracting the 'Weight' feature and set it as both the independent and dependent variable\n",
    "x = df['Weight'].values.reshape(-1, 1)\n",
    "y = df['Weight'].values\n",
    "\n",
    "# Spliting the data into training and test sets\n",
    "from sklearn.model_selection import train_test_split\n",
    "X_train, X_test, y_train, y_test = train_test_split(x, y, test_size=0.2, random_state=20)\n",
    "\n",
    "# Creating a linear regression model and fit it to the training data\n",
    "from sklearn.linear_model import LinearRegression\n",
    "lr4 = LinearRegression()\n",
    "lr4.fit(X_train, y_train)\n",
    "\n",
    "# Predicting the 'Weight' for both the training and testing sets\n",
    "y_train_pred = lr4.predict(X_train)\n",
    "y_test_pred = lr4.predict(X_test)\n",
    "\n",
    "# Evaluating the model using R-squared score\n",
    "from sklearn.metrics import r2_score\n",
    "train_r2 = r2_score(y_train, y_train_pred)\n",
    "test_r2 = r2_score(y_test, y_test_pred)\n",
    "\n",
    "# Printing the R-squared scores for training and test sets\n",
    "print('R2_train= ', train_r2, '\\nR2_test= ', test_r2)"
   ]
  },
  {
   "cell_type": "code",
   "execution_count": 81,
   "id": "1dfec785-e4e6-4574-a433-9729de3a69e1",
   "metadata": {},
   "outputs": [
    {
     "name": "stdout",
     "output_type": "stream",
     "text": [
      "R score Test 0.886034333692951\n",
      "R score Train 0.8987258939782927\n"
     ]
    }
   ],
   "source": [
    "# Extracting features and target variable\n",
    "X = df[['Length1', 'Length2', 'Length3', 'Height', 'Width']].values\n",
    "y = df['Weight'].values\n",
    "\n",
    "# Standardazing the features using StandardScaler\n",
    "from sklearn.preprocessing import StandardScaler\n",
    "scaler = StandardScaler()\n",
    "scaled = scaler.fit_transform(X)\n",
    "\n",
    "# Spliting the data into training and test sets\n",
    "from sklearn.model_selection import train_test_split\n",
    "X_train, X_test, y_train, y_test = train_test_split(scaled, y, test_size=0.2, random_state=40)\n",
    "\n",
    "# Creating a linear regression model and fit it to the training data\n",
    "from sklearn.linear_model import LinearRegression\n",
    "reg = LinearRegression().fit(X_train, y_train)\n",
    "\n",
    "# Making  predictions on the test and training sets\n",
    "Reg_predict = reg.predict(X_test)\n",
    "Reg_pred_train = reg.predict(X_train)\n",
    "\n",
    "# Evaluating the model using R-squared scores\n",
    "from sklearn import metrics\n",
    "print(\"R score Test\", metrics.r2_score(y_test, Reg_predict))\n",
    "print(\"R score Train\", metrics.r2_score(y_train, Reg_pred_train))\n"
   ]
  },
  {
   "cell_type": "code",
   "execution_count": 82,
   "id": "66d5cb52-4345-4166-b367-5dba8ebdd0e7",
   "metadata": {},
   "outputs": [],
   "source": [
    "# Using Lasso (L1 Regularization) Regression Model"
   ]
  },
  {
   "cell_type": "code",
   "execution_count": 83,
   "id": "99581ccd-388f-4c90-8bf6-cb5b08b549a8",
   "metadata": {},
   "outputs": [],
   "source": [
    "from sklearn.linear_model import Lasso\n",
    "\n",
    "# Creating a Lasso regression model\n",
    "lasso_reg = Lasso()\n",
    "\n",
    "# Fit the Lasso model to the training data\n",
    "lasso_reg.fit(X_train, y_train)\n",
    "\n",
    "# Making predictions on the training set\n",
    "y_pred_lasso_train = lasso_reg.predict(X_train)\n",
    "\n",
    "# Making predictions on the test set\n",
    "y_pred_lasso_test = lasso_reg.predict(X_test)"
   ]
  },
  {
   "cell_type": "code",
   "execution_count": 84,
   "id": "927b6d2a-5209-495d-8baf-17e8266dc630",
   "metadata": {},
   "outputs": [
    {
     "data": {
      "text/plain": [
       "0.8849220598487858"
      ]
     },
     "execution_count": 84,
     "metadata": {},
     "output_type": "execute_result"
    }
   ],
   "source": [
    "lasso_reg.score(X_test,y_test)"
   ]
  },
  {
   "cell_type": "code",
   "execution_count": 85,
   "id": "fbd64e90-f300-404a-abff-bc16412aa343",
   "metadata": {},
   "outputs": [
    {
     "data": {
      "text/plain": [
       "0.8892407277537475"
      ]
     },
     "execution_count": 85,
     "metadata": {},
     "output_type": "execute_result"
    }
   ],
   "source": [
    "lasso_reg.score(X_train,y_train)"
   ]
  },
  {
   "cell_type": "code",
   "execution_count": 86,
   "id": "51375d9b-1e28-4e6b-8520-f6e43aa47bc1",
   "metadata": {},
   "outputs": [],
   "source": [
    "# Using Ridge(L2 Regularization) Regression Model"
   ]
  },
  {
   "cell_type": "code",
   "execution_count": 87,
   "id": "24cdda04-a8af-44e8-9f51-24c5376b26ea",
   "metadata": {},
   "outputs": [
    {
     "data": {
      "text/html": [
       "<style>#sk-container-id-2 {color: black;}#sk-container-id-2 pre{padding: 0;}#sk-container-id-2 div.sk-toggleable {background-color: white;}#sk-container-id-2 label.sk-toggleable__label {cursor: pointer;display: block;width: 100%;margin-bottom: 0;padding: 0.3em;box-sizing: border-box;text-align: center;}#sk-container-id-2 label.sk-toggleable__label-arrow:before {content: \"▸\";float: left;margin-right: 0.25em;color: #696969;}#sk-container-id-2 label.sk-toggleable__label-arrow:hover:before {color: black;}#sk-container-id-2 div.sk-estimator:hover label.sk-toggleable__label-arrow:before {color: black;}#sk-container-id-2 div.sk-toggleable__content {max-height: 0;max-width: 0;overflow: hidden;text-align: left;background-color: #f0f8ff;}#sk-container-id-2 div.sk-toggleable__content pre {margin: 0.2em;color: black;border-radius: 0.25em;background-color: #f0f8ff;}#sk-container-id-2 input.sk-toggleable__control:checked~div.sk-toggleable__content {max-height: 200px;max-width: 100%;overflow: auto;}#sk-container-id-2 input.sk-toggleable__control:checked~label.sk-toggleable__label-arrow:before {content: \"▾\";}#sk-container-id-2 div.sk-estimator input.sk-toggleable__control:checked~label.sk-toggleable__label {background-color: #d4ebff;}#sk-container-id-2 div.sk-label input.sk-toggleable__control:checked~label.sk-toggleable__label {background-color: #d4ebff;}#sk-container-id-2 input.sk-hidden--visually {border: 0;clip: rect(1px 1px 1px 1px);clip: rect(1px, 1px, 1px, 1px);height: 1px;margin: -1px;overflow: hidden;padding: 0;position: absolute;width: 1px;}#sk-container-id-2 div.sk-estimator {font-family: monospace;background-color: #f0f8ff;border: 1px dotted black;border-radius: 0.25em;box-sizing: border-box;margin-bottom: 0.5em;}#sk-container-id-2 div.sk-estimator:hover {background-color: #d4ebff;}#sk-container-id-2 div.sk-parallel-item::after {content: \"\";width: 100%;border-bottom: 1px solid gray;flex-grow: 1;}#sk-container-id-2 div.sk-label:hover label.sk-toggleable__label {background-color: #d4ebff;}#sk-container-id-2 div.sk-serial::before {content: \"\";position: absolute;border-left: 1px solid gray;box-sizing: border-box;top: 0;bottom: 0;left: 50%;z-index: 0;}#sk-container-id-2 div.sk-serial {display: flex;flex-direction: column;align-items: center;background-color: white;padding-right: 0.2em;padding-left: 0.2em;position: relative;}#sk-container-id-2 div.sk-item {position: relative;z-index: 1;}#sk-container-id-2 div.sk-parallel {display: flex;align-items: stretch;justify-content: center;background-color: white;position: relative;}#sk-container-id-2 div.sk-item::before, #sk-container-id-2 div.sk-parallel-item::before {content: \"\";position: absolute;border-left: 1px solid gray;box-sizing: border-box;top: 0;bottom: 0;left: 50%;z-index: -1;}#sk-container-id-2 div.sk-parallel-item {display: flex;flex-direction: column;z-index: 1;position: relative;background-color: white;}#sk-container-id-2 div.sk-parallel-item:first-child::after {align-self: flex-end;width: 50%;}#sk-container-id-2 div.sk-parallel-item:last-child::after {align-self: flex-start;width: 50%;}#sk-container-id-2 div.sk-parallel-item:only-child::after {width: 0;}#sk-container-id-2 div.sk-dashed-wrapped {border: 1px dashed gray;margin: 0 0.4em 0.5em 0.4em;box-sizing: border-box;padding-bottom: 0.4em;background-color: white;}#sk-container-id-2 div.sk-label label {font-family: monospace;font-weight: bold;display: inline-block;line-height: 1.2em;}#sk-container-id-2 div.sk-label-container {text-align: center;}#sk-container-id-2 div.sk-container {/* jupyter's `normalize.less` sets `[hidden] { display: none; }` but bootstrap.min.css set `[hidden] { display: none !important; }` so we also need the `!important` here to be able to override the default hidden behavior on the sphinx rendered scikit-learn.org. See: https://github.com/scikit-learn/scikit-learn/issues/21755 */display: inline-block !important;position: relative;}#sk-container-id-2 div.sk-text-repr-fallback {display: none;}</style><div id=\"sk-container-id-2\" class=\"sk-top-container\"><div class=\"sk-text-repr-fallback\"><pre>Ridge()</pre><b>In a Jupyter environment, please rerun this cell to show the HTML representation or trust the notebook. <br />On GitHub, the HTML representation is unable to render, please try loading this page with nbviewer.org.</b></div><div class=\"sk-container\" hidden><div class=\"sk-item\"><div class=\"sk-estimator sk-toggleable\"><input class=\"sk-toggleable__control sk-hidden--visually\" id=\"sk-estimator-id-2\" type=\"checkbox\" checked><label for=\"sk-estimator-id-2\" class=\"sk-toggleable__label sk-toggleable__label-arrow\">Ridge</label><div class=\"sk-toggleable__content\"><pre>Ridge()</pre></div></div></div></div></div>"
      ],
      "text/plain": [
       "Ridge()"
      ]
     },
     "execution_count": 87,
     "metadata": {},
     "output_type": "execute_result"
    }
   ],
   "source": [
    "from sklearn.linear_model import Ridge\n",
    "\n",
    "# Creating a Ridge regression model\n",
    "ridge_reg = Ridge()\n",
    "\n",
    "# Fit the Ridge model to the training data\n",
    "ridge_reg.fit(X_train, y_train)"
   ]
  },
  {
   "cell_type": "code",
   "execution_count": 88,
   "id": "89c3fcbb-5a26-4783-946a-65d68f01e99d",
   "metadata": {},
   "outputs": [
    {
     "data": {
      "text/plain": [
       "0.8849392433828039"
      ]
     },
     "execution_count": 88,
     "metadata": {},
     "output_type": "execute_result"
    }
   ],
   "source": [
    "ridge_reg.score(X_test,y_test)"
   ]
  },
  {
   "cell_type": "code",
   "execution_count": 89,
   "id": "9e6f4a00-eb62-408b-8198-ed0d07b306e7",
   "metadata": {},
   "outputs": [
    {
     "data": {
      "text/plain": [
       "0.8908417287879348"
      ]
     },
     "execution_count": 89,
     "metadata": {},
     "output_type": "execute_result"
    }
   ],
   "source": [
    "ridge_reg.score(X_train,y_train)"
   ]
  },
  {
   "cell_type": "code",
   "execution_count": 90,
   "id": "ce13492b-67bd-4841-98af-32c343ca36e2",
   "metadata": {},
   "outputs": [],
   "source": [
    "# Using Elastic Net(En Regularization) Regression Model"
   ]
  },
  {
   "cell_type": "code",
   "execution_count": 92,
   "id": "550d96b3-ad0c-45bf-8fe9-c9afae706373",
   "metadata": {},
   "outputs": [
    {
     "data": {
      "text/html": [
       "<style>#sk-container-id-4 {color: black;}#sk-container-id-4 pre{padding: 0;}#sk-container-id-4 div.sk-toggleable {background-color: white;}#sk-container-id-4 label.sk-toggleable__label {cursor: pointer;display: block;width: 100%;margin-bottom: 0;padding: 0.3em;box-sizing: border-box;text-align: center;}#sk-container-id-4 label.sk-toggleable__label-arrow:before {content: \"▸\";float: left;margin-right: 0.25em;color: #696969;}#sk-container-id-4 label.sk-toggleable__label-arrow:hover:before {color: black;}#sk-container-id-4 div.sk-estimator:hover label.sk-toggleable__label-arrow:before {color: black;}#sk-container-id-4 div.sk-toggleable__content {max-height: 0;max-width: 0;overflow: hidden;text-align: left;background-color: #f0f8ff;}#sk-container-id-4 div.sk-toggleable__content pre {margin: 0.2em;color: black;border-radius: 0.25em;background-color: #f0f8ff;}#sk-container-id-4 input.sk-toggleable__control:checked~div.sk-toggleable__content {max-height: 200px;max-width: 100%;overflow: auto;}#sk-container-id-4 input.sk-toggleable__control:checked~label.sk-toggleable__label-arrow:before {content: \"▾\";}#sk-container-id-4 div.sk-estimator input.sk-toggleable__control:checked~label.sk-toggleable__label {background-color: #d4ebff;}#sk-container-id-4 div.sk-label input.sk-toggleable__control:checked~label.sk-toggleable__label {background-color: #d4ebff;}#sk-container-id-4 input.sk-hidden--visually {border: 0;clip: rect(1px 1px 1px 1px);clip: rect(1px, 1px, 1px, 1px);height: 1px;margin: -1px;overflow: hidden;padding: 0;position: absolute;width: 1px;}#sk-container-id-4 div.sk-estimator {font-family: monospace;background-color: #f0f8ff;border: 1px dotted black;border-radius: 0.25em;box-sizing: border-box;margin-bottom: 0.5em;}#sk-container-id-4 div.sk-estimator:hover {background-color: #d4ebff;}#sk-container-id-4 div.sk-parallel-item::after {content: \"\";width: 100%;border-bottom: 1px solid gray;flex-grow: 1;}#sk-container-id-4 div.sk-label:hover label.sk-toggleable__label {background-color: #d4ebff;}#sk-container-id-4 div.sk-serial::before {content: \"\";position: absolute;border-left: 1px solid gray;box-sizing: border-box;top: 0;bottom: 0;left: 50%;z-index: 0;}#sk-container-id-4 div.sk-serial {display: flex;flex-direction: column;align-items: center;background-color: white;padding-right: 0.2em;padding-left: 0.2em;position: relative;}#sk-container-id-4 div.sk-item {position: relative;z-index: 1;}#sk-container-id-4 div.sk-parallel {display: flex;align-items: stretch;justify-content: center;background-color: white;position: relative;}#sk-container-id-4 div.sk-item::before, #sk-container-id-4 div.sk-parallel-item::before {content: \"\";position: absolute;border-left: 1px solid gray;box-sizing: border-box;top: 0;bottom: 0;left: 50%;z-index: -1;}#sk-container-id-4 div.sk-parallel-item {display: flex;flex-direction: column;z-index: 1;position: relative;background-color: white;}#sk-container-id-4 div.sk-parallel-item:first-child::after {align-self: flex-end;width: 50%;}#sk-container-id-4 div.sk-parallel-item:last-child::after {align-self: flex-start;width: 50%;}#sk-container-id-4 div.sk-parallel-item:only-child::after {width: 0;}#sk-container-id-4 div.sk-dashed-wrapped {border: 1px dashed gray;margin: 0 0.4em 0.5em 0.4em;box-sizing: border-box;padding-bottom: 0.4em;background-color: white;}#sk-container-id-4 div.sk-label label {font-family: monospace;font-weight: bold;display: inline-block;line-height: 1.2em;}#sk-container-id-4 div.sk-label-container {text-align: center;}#sk-container-id-4 div.sk-container {/* jupyter's `normalize.less` sets `[hidden] { display: none; }` but bootstrap.min.css set `[hidden] { display: none !important; }` so we also need the `!important` here to be able to override the default hidden behavior on the sphinx rendered scikit-learn.org. See: https://github.com/scikit-learn/scikit-learn/issues/21755 */display: inline-block !important;position: relative;}#sk-container-id-4 div.sk-text-repr-fallback {display: none;}</style><div id=\"sk-container-id-4\" class=\"sk-top-container\"><div class=\"sk-text-repr-fallback\"><pre>Ridge()</pre><b>In a Jupyter environment, please rerun this cell to show the HTML representation or trust the notebook. <br />On GitHub, the HTML representation is unable to render, please try loading this page with nbviewer.org.</b></div><div class=\"sk-container\" hidden><div class=\"sk-item\"><div class=\"sk-estimator sk-toggleable\"><input class=\"sk-toggleable__control sk-hidden--visually\" id=\"sk-estimator-id-4\" type=\"checkbox\" checked><label for=\"sk-estimator-id-4\" class=\"sk-toggleable__label sk-toggleable__label-arrow\">Ridge</label><div class=\"sk-toggleable__content\"><pre>Ridge()</pre></div></div></div></div></div>"
      ],
      "text/plain": [
       "Ridge()"
      ]
     },
     "execution_count": 92,
     "metadata": {},
     "output_type": "execute_result"
    }
   ],
   "source": [
    "from sklearn.linear_model import ElasticNet\n",
    "\n",
    "# Creating a Ridge regression model\n",
    "En_reg1 = Ridge()\n",
    "\n",
    "# Fit the Ridge model to the training data\n",
    "En_reg1.fit(X_train, y_train)"
   ]
  },
  {
   "cell_type": "code",
   "execution_count": 96,
   "id": "d5f3e956-0478-462e-90ad-b4dd83382b28",
   "metadata": {},
   "outputs": [
    {
     "data": {
      "text/plain": [
       "0.8849392433828039"
      ]
     },
     "execution_count": 96,
     "metadata": {},
     "output_type": "execute_result"
    }
   ],
   "source": [
    "En_reg1.score(X_test,y_test)"
   ]
  },
  {
   "cell_type": "code",
   "execution_count": 97,
   "id": "a9bcc0e3-528a-4972-bf4e-165947f8c8cf",
   "metadata": {},
   "outputs": [
    {
     "data": {
      "text/plain": [
       "0.8908417287879348"
      ]
     },
     "execution_count": 97,
     "metadata": {},
     "output_type": "execute_result"
    }
   ],
   "source": [
    "En_reg1.score(X_train,y_train)"
   ]
  },
  {
   "cell_type": "code",
   "execution_count": 98,
   "id": "07bd84c1-5c92-4922-bef8-569ec1cc4699",
   "metadata": {},
   "outputs": [
    {
     "name": "stdout",
     "output_type": "stream",
     "text": [
      "(159, 1)\n"
     ]
    }
   ],
   "source": [
    "print(x.shape)"
   ]
  }
 ],
 "metadata": {
  "kernelspec": {
   "display_name": "Python 3 (ipykernel)",
   "language": "python",
   "name": "python3"
  },
  "language_info": {
   "codemirror_mode": {
    "name": "ipython",
    "version": 3
   },
   "file_extension": ".py",
   "mimetype": "text/x-python",
   "name": "python",
   "nbconvert_exporter": "python",
   "pygments_lexer": "ipython3",
   "version": "3.11.5"
  }
 },
 "nbformat": 4,
 "nbformat_minor": 5
}
